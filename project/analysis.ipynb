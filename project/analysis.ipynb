{
 "cells": [
  {
   "cell_type": "code",
   "execution_count": 1,
   "metadata": {},
   "outputs": [
    {
     "name": "stderr",
     "output_type": "stream",
     "text": [
      "Global seed set to 0\n"
     ]
    },
    {
     "data": {
      "text/plain": [
       "0"
      ]
     },
     "execution_count": 1,
     "metadata": {},
     "output_type": "execute_result"
    }
   ],
   "source": [
    "import random\n",
    "\n",
    "import torch\n",
    "import pytorch_lightning as pl\n",
    "from autoattack import AutoAttack\n",
    "\n",
    "from src.datamodules import RESISC45DataModule, EuroSATDataModule\n",
    "from src.modules import CustomMultiLabelClassificationTask\n",
    "from torchgeo.trainers import ClassificationTask\n",
    "\n",
    "pl.seed_everything(0)"
   ]
  },
  {
   "cell_type": "markdown",
   "metadata": {},
   "source": [
    "### RESISC45"
   ]
  },
  {
   "cell_type": "code",
   "execution_count": 3,
   "metadata": {},
   "outputs": [],
   "source": [
    "datamodule = RESISC45DataModule(root_dir=\"data/\")\n",
    "datamodule.setup()\n",
    "dataset = datamodule.test_dataset\n",
    "\n",
    "indices = random.sample(range(len(datamodule.test_dataset)), k=100)\n",
    "batch = [dataset[idx] for idx in indices]\n",
    "x = torch.stack([sample[\"image\"] for sample in batch])\n",
    "y = torch.stack([sample[\"label\"] for sample in batch])\n",
    "x, y = x.to(\"cuda\"), y.to(\"cuda\")"
   ]
  },
  {
   "cell_type": "code",
   "execution_count": 4,
   "metadata": {},
   "outputs": [],
   "source": [
    "path = \"logs/resisc45-robust/epoch=33-step=5032.ckpt\"\n",
    "model = CustomMultiLabelClassificationTask.load_from_checkpoint(path).model\n",
    "model = model.to(\"cuda\")"
   ]
  },
  {
   "cell_type": "code",
   "execution_count": 4,
   "metadata": {},
   "outputs": [
    {
     "name": "stdout",
     "output_type": "stream",
     "text": [
      "using custom version including apgd-ce, apgd-dlr\n",
      "initial accuracy: 95.00%\n",
      "apgd-ce - 1/1 - 53 out of 95 successfully perturbed\n",
      "robust accuracy after APGD-CE: 42.00% (total time 22.2 s)\n",
      "apgd-dlr - 1/1 - 29 out of 42 successfully perturbed\n",
      "robust accuracy after APGD-DLR: 13.00% (total time 32.5 s)\n",
      "max Linf perturbation: 2.55770, nan in tensor: 0, max: 3.55770, min: -2.05580\n",
      "robust accuracy: 13.00%\n"
     ]
    }
   ],
   "source": [
    "adversary = AutoAttack(model, norm=\"Linf\", eps=8/255, version=\"custom\", attacks_to_run=[\"apgd-ce\", \"apgd-dlr\"])\n",
    "adversary.apgd.n_restarts = 1\n",
    "x_adv = adversary.run_standard_evaluation(x, y)"
   ]
  },
  {
   "cell_type": "code",
   "execution_count": 5,
   "metadata": {},
   "outputs": [
    {
     "name": "stdout",
     "output_type": "stream",
     "text": [
      "using custom version including apgd-ce, apgd-dlr\n",
      "initial accuracy: 90.00%\n",
      "apgd-ce - 1/1 - 4 out of 90 successfully perturbed\n",
      "robust accuracy after APGD-CE: 86.00% (total time 22.7 s)\n",
      "apgd-dlr - 1/1 - 0 out of 86 successfully perturbed\n",
      "robust accuracy after APGD-DLR: 86.00% (total time 44.8 s)\n",
      "max L2 perturbation: 604.56769, nan in tensor: 0, max: 3.55770, min: -2.05581\n",
      "robust accuracy: 86.00%\n"
     ]
    }
   ],
   "source": [
    "adversary = AutoAttack(model, norm=\"L2\", eps=1/2, version=\"custom\", attacks_to_run=[\"apgd-ce\", \"apgd-dlr\"])\n",
    "adversary.apgd.n_restarts = 1\n",
    "x_adv = adversary.run_standard_evaluation(x, y)"
   ]
  },
  {
   "cell_type": "code",
   "execution_count": 6,
   "metadata": {},
   "outputs": [],
   "source": [
    "path = \"logs/resisc45-vanilla/epoch=39-step=5920.ckpt\"\n",
    "model = ClassificationTask.load_from_checkpoint(path).model\n",
    "model = model.to(\"cuda\")"
   ]
  },
  {
   "cell_type": "code",
   "execution_count": 7,
   "metadata": {},
   "outputs": [
    {
     "name": "stdout",
     "output_type": "stream",
     "text": [
      "using custom version including apgd-ce, apgd-dlr\n",
      "initial accuracy: 93.00%\n",
      "apgd-ce - 1/1 - 50 out of 93 successfully perturbed\n",
      "robust accuracy after APGD-CE: 43.00% (total time 23.1 s)\n",
      "apgd-dlr - 1/1 - 24 out of 43 successfully perturbed\n",
      "robust accuracy after APGD-DLR: 19.00% (total time 34.6 s)\n",
      "max Linf perturbation: 2.55770, nan in tensor: 0, max: 3.55770, min: -2.05580\n",
      "robust accuracy: 19.00%\n"
     ]
    }
   ],
   "source": [
    "adversary = AutoAttack(model, norm=\"Linf\", eps=8/255, version=\"custom\", attacks_to_run=[\"apgd-ce\", \"apgd-dlr\"])\n",
    "adversary.apgd.n_restarts = 1\n",
    "x_adv = adversary.run_standard_evaluation(x, y)"
   ]
  },
  {
   "cell_type": "code",
   "execution_count": 7,
   "metadata": {},
   "outputs": [
    {
     "name": "stdout",
     "output_type": "stream",
     "text": [
      "using custom version including apgd-ce, apgd-dlr\n",
      "initial accuracy: 95.00%\n",
      "apgd-ce - 1/1 - 3 out of 95 successfully perturbed\n",
      "robust accuracy after APGD-CE: 92.00% (total time 23.8 s)\n",
      "apgd-dlr - 1/1 - 1 out of 92 successfully perturbed\n",
      "robust accuracy after APGD-DLR: 91.00% (total time 47.5 s)\n",
      "max L2 perturbation: 604.56769, nan in tensor: 0, max: 3.55770, min: -2.05581\n",
      "robust accuracy: 91.00%\n"
     ]
    }
   ],
   "source": [
    "adversary = AutoAttack(model, norm=\"L2\", eps=1/2, version=\"custom\", attacks_to_run=[\"apgd-ce\", \"apgd-dlr\"])\n",
    "adversary.apgd.n_restarts = 1\n",
    "x_adv = adversary.run_standard_evaluation(x, y)"
   ]
  },
  {
   "cell_type": "markdown",
   "metadata": {},
   "source": [
    "### EuroSAT"
   ]
  },
  {
   "cell_type": "code",
   "execution_count": 2,
   "metadata": {},
   "outputs": [],
   "source": [
    "datamodule = EuroSATDataModule(root_dir=\"data/\")\n",
    "datamodule.setup()\n",
    "dataset = datamodule.test_dataset\n",
    "\n",
    "indices = random.sample(range(len(datamodule.test_dataset)), k=250)\n",
    "batch = [dataset[idx] for idx in indices]\n",
    "x = torch.stack([sample[\"image\"] for sample in batch])\n",
    "y = torch.stack([sample[\"label\"] for sample in batch])\n",
    "x, y = x.to(\"cuda\"), y.to(\"cuda\")"
   ]
  },
  {
   "cell_type": "code",
   "execution_count": 7,
   "metadata": {},
   "outputs": [],
   "source": [
    "path = \"logs/eurosat-robust/epoch=11-step=3048.ckpt\"\n",
    "model = CustomMultiLabelClassificationTask.load_from_checkpoint(path).model\n",
    "model = model.to(\"cuda\")"
   ]
  },
  {
   "cell_type": "code",
   "execution_count": 8,
   "metadata": {},
   "outputs": [
    {
     "name": "stdout",
     "output_type": "stream",
     "text": [
      "using custom version including apgd-ce, apgd-dlr\n",
      "initial accuracy: 31.20%\n",
      "apgd-ce - 1/1 - 56 out of 78 successfully perturbed\n",
      "robust accuracy after APGD-CE: 8.80% (total time 15.6 s)\n",
      "apgd-dlr - 1/1 - 17 out of 22 successfully perturbed\n",
      "robust accuracy after APGD-DLR: 2.00% (total time 18.8 s)\n",
      "max Linf perturbation: 5.52011, nan in tensor: 0, max: 0.00000, min: -5.52015\n",
      "robust accuracy: 2.00%\n"
     ]
    }
   ],
   "source": [
    "adversary = AutoAttack(model, norm=\"Linf\", eps=8/255, version=\"custom\", attacks_to_run=[\"apgd-ce\", \"apgd-dlr\"])\n",
    "adversary.apgd.n_restarts = 1\n",
    "x_adv = adversary.run_standard_evaluation(x, y)"
   ]
  },
  {
   "cell_type": "code",
   "execution_count": 9,
   "metadata": {},
   "outputs": [
    {
     "name": "stdout",
     "output_type": "stream",
     "text": [
      "using custom version including apgd-ce, apgd-dlr\n",
      "initial accuracy: 31.20%\n",
      "apgd-ce - 1/1 - 56 out of 78 successfully perturbed\n",
      "robust accuracy after APGD-CE: 8.80% (total time 16.0 s)\n",
      "apgd-dlr - 1/1 - 17 out of 22 successfully perturbed\n",
      "robust accuracy after APGD-DLR: 2.00% (total time 19.1 s)\n",
      "max L2 perturbation: 612.65430, nan in tensor: 0, max: 0.00000, min: -5.52015\n",
      "robust accuracy: 2.00%\n"
     ]
    }
   ],
   "source": [
    "adversary = AutoAttack(model, norm=\"L2\", eps=1/2, version=\"custom\", attacks_to_run=[\"apgd-ce\", \"apgd-dlr\"])\n",
    "adversary.apgd.n_restarts = 1\n",
    "x_adv = adversary.run_standard_evaluation(x, y)"
   ]
  },
  {
   "cell_type": "code",
   "execution_count": 5,
   "metadata": {},
   "outputs": [],
   "source": [
    "path = \"logs/eurosat-vanilla/epoch=47-step=6096.ckpt\"\n",
    "model = ClassificationTask.load_from_checkpoint(path).model\n",
    "model = model.to(\"cuda\")"
   ]
  },
  {
   "cell_type": "code",
   "execution_count": 14,
   "metadata": {},
   "outputs": [
    {
     "name": "stdout",
     "output_type": "stream",
     "text": [
      "using custom version including apgd-ce, apgd-dlr\n",
      "initial accuracy: 45.20%\n",
      "apgd-ce - 1/1 - 77 out of 113 successfully perturbed\n",
      "robust accuracy after APGD-CE: 14.40% (total time 2.7 s)\n",
      "apgd-dlr - 1/1 - 21 out of 36 successfully perturbed\n",
      "robust accuracy after APGD-DLR: 6.00% (total time 5.2 s)\n",
      "max Linf perturbation: 5.51925, nan in tensor: 0, max: 0.00000, min: -5.52015\n",
      "robust accuracy: 6.00%\n"
     ]
    }
   ],
   "source": [
    "adversary = AutoAttack(model, norm=\"Linf\", eps=8/255, version=\"custom\", attacks_to_run=[\"apgd-ce\", \"apgd-dlr\"])\n",
    "adversary.apgd.n_restarts = 1\n",
    "x_adv = adversary.run_standard_evaluation(x, y)"
   ]
  },
  {
   "cell_type": "code",
   "execution_count": 6,
   "metadata": {},
   "outputs": [
    {
     "name": "stdout",
     "output_type": "stream",
     "text": [
      "using custom version including apgd-ce, apgd-dlr\n",
      "initial accuracy: 45.20%\n",
      "apgd-ce - 1/1 - 77 out of 113 successfully perturbed\n",
      "robust accuracy after APGD-CE: 14.40% (total time 2.8 s)\n",
      "apgd-dlr - 1/1 - 21 out of 36 successfully perturbed\n",
      "robust accuracy after APGD-DLR: 6.00% (total time 6.1 s)\n",
      "max L2 perturbation: 612.65430, nan in tensor: 0, max: 0.00000, min: -5.52015\n",
      "robust accuracy: 6.00%\n"
     ]
    }
   ],
   "source": [
    "adversary = AutoAttack(model, norm=\"L2\", eps=1/2, version=\"custom\", attacks_to_run=[\"apgd-ce\", \"apgd-dlr\"])\n",
    "adversary.apgd.n_restarts = 1\n",
    "x_adv = adversary.run_standard_evaluation(x, y)"
   ]
  },
  {
   "cell_type": "code",
   "execution_count": null,
   "metadata": {},
   "outputs": [],
   "source": []
  }
 ],
 "metadata": {
  "interpreter": {
   "hash": "acbef23da52677012e8d097809d44ac3a8e16b6baec72a7d767710e25c6dbec3"
  },
  "kernelspec": {
   "display_name": "Python 3.9.7 ('trustenv')",
   "language": "python",
   "name": "python3"
  },
  "language_info": {
   "codemirror_mode": {
    "name": "ipython",
    "version": 3
   },
   "file_extension": ".py",
   "mimetype": "text/x-python",
   "name": "python",
   "nbconvert_exporter": "python",
   "pygments_lexer": "ipython3",
   "version": "3.9.7"
  },
  "orig_nbformat": 4
 },
 "nbformat": 4,
 "nbformat_minor": 2
}
